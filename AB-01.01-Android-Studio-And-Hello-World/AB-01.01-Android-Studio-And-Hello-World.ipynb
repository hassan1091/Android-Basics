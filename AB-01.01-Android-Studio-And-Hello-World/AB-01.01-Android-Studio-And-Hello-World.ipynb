{
 "cells": [
  {
   "cell_type": "markdown",
   "metadata": {},
   "source": [
    "<img src=\"../References/logo-dark-limited.png\" width=\"150\" height=\"150\" align=\"right\"/>\n",
    "\n",
    "# Android Fundamentals\n",
    "\n",
    "## Unit 1: Get started\n",
    "\n",
    "---"
   ]
  },
  {
   "cell_type": "markdown",
   "metadata": {},
   "source": [
    "### 1.1 Android Studio and Hello World"
   ]
  },
  {
   "cell_type": "markdown",
   "metadata": {},
   "source": [
    "#### Table of contents\n",
    "+ [Welcome](#welcome)\n",
    "+ [Introduction](#intro)\n",
    "+ [What you'll need](#you_need)\n",
    "+ [What you'll learn](#you-learn)\n",
    "+ [What you'll do](#you-do)\n",
    "\n",
    "#### Tasks\n",
    "+ [Task 1: Install Android Studio](#install-android-studio)\n",
    "+ [Task 2: Create the Hello World App](#create-the-hello-world)\n",
    "+ [Task 3: Use a virtual device (emulator)](#use-virtual-device)\n",
    "+ [Task 4: (Optional) Use a physical device](#use-physical-device)\n",
    "+ [Task 5: Change the app Gradle configuration](#change-the-app-gradle-conf)\n",
    "+ [Task 6: Add log statements to your app](#add-log-statements-to-your-app)\n",
    "\n",
    "#### [Coding Challenge](#coding-challenge)\n",
    "#### [Homework](#homework)\n",
    "\n",
    "---"
   ]
  },
  {
   "cell_type": "markdown",
   "metadata": {},
   "source": [
    "1. <a id=\"welcome\">Welcome</a>\n",
    "\n",
    "This practical codelab is part of Unit 1: Get started in the Android Developer Fundamentals course. You will get the most value out of this course if you work in sequence."
   ]
  },
  {
   "cell_type": "markdown",
   "metadata": {},
   "source": [
    "2. <a id=\"intro\">Introduction</a>\n",
    "\n",
    "In this practical you learn how to install Android Studio, the Android development environment. You also create and run your first Android app, Hello World, on an emulator and on a physical device. In this practical you learn how to install Android Studio, the Android development environment. You also create and run your first Android app, Hello World, on an emulator and on a physical device."
   ]
  },
  {
   "cell_type": "markdown",
   "metadata": {},
   "source": [
    ">You should already be able to:\n",
    ">+ Understand the general software development process for object-oriented applications using an IDE (integrated development environment) such as Android Studio.\n",
    "> + Demonstrate that you have at least 1-3 years of experience in object-oriented programming, with some of it focused on the Java programming language. These practicals will not explain object-oriented programming or the Java language."
   ]
  },
  {
   "cell_type": "markdown",
   "metadata": {},
   "source": [
    "3. <a id=\"you_need\">What you'll need</a>\n",
    "\n",
    "    + A computer running Windows or Linux, or a Mac running macOS. See the [Android Studio download page](https://developer.android.com/studio/index.html) for up-to-date system requirements.\n",
    "    + Internet access or an alternative way of loading the latest Android Studio and Java installations onto your computer."
   ]
  },
  {
   "cell_type": "markdown",
   "metadata": {},
   "source": [
    "4. <a id=\"you_learn\">What you'll learn</a>\n",
    "\n",
    "    - How to install and use the Android Studio IDE.\n",
    "    - How to use the development process for building Android apps.\n",
    "    - How to create an Android project from a template.\n",
    "    - How to add log messages to your app for debugging purposes."
   ]
  },
  {
   "cell_type": "markdown",
   "metadata": {},
   "source": [
    "5. <a id=\"you_do\">What you'll do</a>\n",
    "\n",
    "    - Install the Android Studio development environment.\n",
    "    - Create an emulator (virtual device) to run your app on your computer.\n",
    "    - Create and run the Hello World app on the virtual and physical devices.\n",
    "    - Explore the project layout.\n",
    "    - Generate and view log messages from your app.\n",
    "    - Explore the `AndroidManifest.xml` file."
   ]
  },
  {
   "cell_type": "markdown",
   "metadata": {},
   "source": [
    "---\n",
    "## <a id=\"install-android-studio\"> Task 1: Install Android Studio </a>\n"
   ]
  },
  {
   "cell_type": "markdown",
   "metadata": {},
   "source": [
    "Android Studio provides a complete integrated development environment (IDE) including an advanced code editor and a set of app templates. In addition, it contains tools for development, debugging, testing, and performance that make it faster and easier to develop apps.\n",
    "\n",
    "To get up and running with Android Studio, first check the [system requirements](https://developer.android.com/studio/index.html#Requirements) to ensure that your system meets them."
   ]
  },
  {
   "cell_type": "markdown",
   "metadata": {},
   "source": [
    "### Steps:\n",
    "\n",
    "1. Navigate to the Android developers site and follow the instructions to download and install [Android Studio](https://developer.android.com/studio/install.html).\n",
    "2. Accept the default configurations for all steps, and ensure that all components are selected for installation.\n",
    "3. After finishing the install, the Setup Wizard will download and install some additional components including the Android SDK. Be patient, this might take some time depending on your Internet speed, and some of the steps may seem redundant.\n",
    "4. When the download completes, Android Studio will start, and you are ready to create your first project."
   ]
  },
  {
   "cell_type": "markdown",
   "metadata": {},
   "source": [
    "---\n",
    "## <a id=\"create-the-hello-world\"> Task 2: Create the Hello World app </a>"
   ]
  },
  {
   "cell_type": "markdown",
   "metadata": {},
   "source": [
    "In this task, you will create an app that displays \"Hello World\" to verify that Android studio is correctly installed, and to learn the basics of developing with Android Studio"
   ]
  },
  {
   "cell_type": "markdown",
   "metadata": {},
   "source": [
    "#### 2.1 Create the app project\n",
    "#### 2.2 Explore the Project > Android pane\n",
    "#### 2.3 Explore the Gradle Scripts folder\n",
    "#### 2.4 Explore the app and res folders\n",
    "#### 2.5 Explore the manifests folder"
   ]
  },
  {
   "cell_type": "markdown",
   "metadata": {},
   "source": [
    "---\n",
    "\n",
    "## <a id=\"use-virtual-device\"> Task 3: Use a virtual device (emulator) </a>"
   ]
  },
  {
   "cell_type": "markdown",
   "metadata": {},
   "source": [
    "#### 3.1 Create an Android virtual device (AVD)"
   ]
  },
  {
   "cell_type": "markdown",
   "metadata": {},
   "source": [
    "#### 3.2 Run the app on the virtual device"
   ]
  },
  {
   "cell_type": "markdown",
   "metadata": {},
   "source": [
    "---\n",
    "\n",
    "## <a id=\"use-physical-device\">  Task 4: (Optional) Use a physical device </a>\n",
    "\n",
    "In this final task, you will run your app on a physical mobile device such as a phone or tablet. You should always test your apps on both virtual and physical devices."
   ]
  },
  {
   "cell_type": "markdown",
   "metadata": {},
   "source": [
    "#### 4.1 Turn on USB debugging\n",
    "#### 4.2 Run your app on a device"
   ]
  },
  {
   "cell_type": "markdown",
   "metadata": {},
   "source": [
    "> #### Troubleshooting\n",
    "\n",
    "If your Android Studio does not recognize your device, try the following:\n",
    "    \n",
    "   1. Unplug and replug your device.\n",
    "   2. Restart Android Studio.\n",
    "\n",
    "If your computer still does not find the device or declares it \"unauthorized\", follow these steps:\n",
    "   1. Unplug the device.\n",
    "   2. On the device, open Developer Options in Settings app.\n",
    "   3. Tap Revoke USB Debugging authorizations.\n",
    "   4. Reconnect the device to your computer.\n",
    "   5. When prompted, grant authorizations."
   ]
  },
  {
   "cell_type": "markdown",
   "metadata": {},
   "source": [
    "---\n",
    "\n",
    "## <a id=\"change-the-app-gradle-conf\">  Task 5: Change the app Gradle configuration </a>\n",
    "\n",
    "In this task you will change something about the app configuration in the `build.gradle(Module:app)` file in order to learn how to make changes and synchronize them to your Android Studio project."
   ]
  },
  {
   "cell_type": "markdown",
   "metadata": {},
   "source": [
    "#### 5.1 Change the minimum SDK version for the app\n",
    "#### 5.2 Sync the new Gradle configuration"
   ]
  },
  {
   "cell_type": "markdown",
   "metadata": {},
   "source": [
    "---\n",
    "## <a id=\"add-log-statements-to-your-app\">  Task 6: Add log statements to your app </a>\n",
    "\n",
    "In this task, you will add Log statements to your app, which display messages in the Logcat pane. Log messages are a powerful debugging tool that you can use to check on values, execution paths, and report exceptions."
   ]
  },
  {
   "cell_type": "markdown",
   "metadata": {},
   "source": [
    "#### 6.1 View the Logcat pane\n",
    "#### 6.2 Add log statements to your app"
   ]
  },
  {
   "cell_type": "markdown",
   "metadata": {},
   "source": [
    "---\n",
    "## <a id=\"coding-challenge\">Coding Challenge</a>\n",
    "\n",
    ">Note: All coding challenges are optional and are not prerequisites for later lessons.\n",
    "\n",
    "**Challenge: Now that you are set up and familiar with the basic development workflow, do the following:**\n",
    "\n",
    "1. Create a new project in Android Studio.\n",
    "2. Change the \"Hello World\" greeting to \"Beat Android\"\n",
    "3. A common use of the [Log](https://developer.android.com/reference/android/util/Log.htmlhttps://developer.android.com/reference/android/util/Log.html)  class is to log [Java exceptions](https://docs.oracle.com/javase/tutorial/essential/exceptions/https://docs.oracle.com/javase/tutorial/essential/exceptions/) when they occur in your program. There are some useful methods, such as Log.e(), that you can use for this purpose. Explore methods you can use to include an exception with a Log message. Then, write code in your app to trigger and log an exception."
   ]
  },
  {
   "cell_type": "markdown",
   "metadata": {},
   "source": [
    "---\n",
    "## <a id=\"homework\">Homework</a>\n",
    "\n",
    "#### Answer these questions\n",
    "**Question 1**\n",
    "+ What is the name of the layout file for the main activity?\n",
    "    - MainActivity.java\n",
    "    - AndroidManifest.xml\n",
    "    - activity_main.xml\n",
    "    - build.gradle\n",
    "    \n",
    "**Question 2**\n",
    "+ What is the name of the string resource that specifies the application's name?\n",
    "\n",
    "    - app_name\n",
    "    - xmlns:app\n",
    "    - android:name\n",
    "    - applicationId\n",
    "    \n",
    "**Question 3**\n",
    "+ Which tool do you use to create a new emulator?\n",
    "\n",
    "    - Android Device Monitor\n",
    "    - AVD Manager\n",
    "    - SDK Manager\n",
    "    - Theme Editor\n"
   ]
  }
 ],
 "metadata": {
  "kernelspec": {
   "display_name": "Python 3",
   "language": "python",
   "name": "python3"
  },
  "language_info": {
   "codemirror_mode": {
    "name": "ipython",
    "version": 3
   },
   "file_extension": ".py",
   "mimetype": "text/x-python",
   "name": "python",
   "nbconvert_exporter": "python",
   "pygments_lexer": "ipython3",
   "version": "3.7.7"
  }
 },
 "nbformat": 4,
 "nbformat_minor": 4
}
