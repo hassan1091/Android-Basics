{
 "cells": [
  {
   "cell_type": "markdown",
   "metadata": {},
   "source": [
    "<img src=\"../assets/logo-dark-limited.png\" width=\"150\" height=\"150\" align=\"right\"/>\n",
    "\n",
    "# Android Fundamentals\n",
    "\n",
    "## Unit 1: Get started\n",
    "\n",
    "---"
   ]
  },
  {
   "cell_type": "markdown",
   "metadata": {},
   "source": [
    "### 1.3 Your first interactive UI"
   ]
  },
  {
   "cell_type": "markdown",
   "metadata": {},
   "source": [
    "#### Table of contents\n",
    "+ [Introduction](#intro3)\n",
    "+ [What you'll learn](#you-learn3)\n",
    "+ [What you'll do](#you-do3)\n",
    "\n",
    "#### Tasks\n",
    "+ [Task 1: Create layout variants](#create-layout-variants)\n",
    "+ [Task 2: Change the layout to LinearLayout](#change-the-layout-to-linear-layout)\n",
    "+ [Task 3: Change the layout to RelativeLayout](#change-the-layout-to-relative-layout)\n",
    "\n",
    "#### [Coding Challenge](#coding-challenge)\n",
    "\n",
    "#### [Homework](#homework)\n",
    "\n",
    "[Vocabulary words and concepts glossary](https://developers.google.com/android/for-all/vocab-words/)\n",
    "\n",
    "---"
   ]
  },
  {
   "cell_type": "markdown",
   "metadata": {},
   "source": [
    "1. <a id=\"intro3\">Introduction</a>\n",
    "\n",
    "As you learned in 1.2 Part A: Your first interactive UI, you can build a user interface (UI) using ConstraintLayout in the layout editor, which places UI elements in a layout using constraint connections to other elements and to the layout edges. ConstraintLayout was designed to make it easy to drag UI elements into the layout editor.\n",
    "\n",
    "**ConstraintLayout is a ViewGroup, which is a special View that can contain other View objects**\n",
    "\n",
    "This practical also introduces two other ViewGroup subclasses:\n",
    "\n",
    "1. **LinearLayout**: A group that aligns child View elements within it horizontally or vertically.\n",
    "2. **RelativeLayout**: A group of child View elements in which each View element is positioned and aligned relative to other View element within the ViewGroup. Positions of the child View elements are described in relation to each other or to the parent ViewGroup.\n"
   ]
  },
  {
   "cell_type": "markdown",
   "metadata": {},
   "source": [
    ">You should be able to:\n",
    "    >+ Create a Hello World app with Android Studio.\n",
    "    >+ Run an app on the emulator or a device.\n",
    "    >+ Create a simple layout for an app with ConstraintLayout.\n",
    "    >+ Extract and use string resources."
   ]
  },
  {
   "cell_type": "markdown",
   "metadata": {},
   "source": [
    "2. <a id=\"you-learn3\">What you'll learn</a>\n",
    "\n",
    "    - Create a Hello World app with Android Studio.\n",
    "    - Run an app on the emulator or a device.\n",
    "    - Create a simple layout for an app with ConstraintLayout.\n",
    "    - Extract and use string resources."
   ]
  },
  {
   "cell_type": "markdown",
   "metadata": {},
   "source": [
    "3. <a id=\"you-do3\">What you'll do</a>\n",
    "\n",
    "    - How to create a layout variant for horizontal (landscape) orientation.\n",
    "    - How to create a layout variant for tablets and larger displays.\n",
    "    - How to use a baseline constraint to align UI elements with text.\n",
    "    - How to use the pack and align buttons to align elements in the layout.\n",
    "    - How to position views within a `LinearLayout`.\n",
    "    - How to position views within a `RelativeLayout`."
   ]
  },
  {
   "cell_type": "markdown",
   "metadata": {},
   "source": [
    "---\n",
    "\n",
    "## <a id=\"create-layout-variants\">Task 1: Create layout variants</a>\n",
    "\n",
    "#### 1.1 Preview the layout in a horizontal orientation\n",
    "\n",
    "> Note: If you downloaded the solution code for HelloToast, you need to delete the finished landscape and extra-large layouts that you will create in this task. Switch from Project > Android to Project > Project Files in the Project pane, expand app > app > src/main > res, select both the layout-land folder and the layout-xlarge folder, and choose Edit > Delete. Then switch the Project pane back to Project > Android.\n",
    "\n",
    "#### 1.2 Create a layout variant for horizontal orientation\n",
    "#### 1.3 Preview the layout for different devices\n",
    "#### 1.4 Change the layout for horizontal orientation\n",
    "#### 1.5 Create a layout variant for tablets\n",
    "#### 1.6 Change the layout variant for tablets\n",
    "#### 1.7 Use a baseline constraint\n",
    "#### 1.8 Expand the buttons horizontally\n",
    "\n"
   ]
  },
  {
   "cell_type": "markdown",
   "metadata": {},
   "source": [
    "## [Task 1 solution code](https://github.com/google-developer-training/android-fundamentals-apps-v2/tree/master/HelloToast)"
   ]
  },
  {
   "cell_type": "markdown",
   "metadata": {},
   "source": [
    "---\n",
    "## <a id=\"coding-challenge\">Coding challenge</a>\n",
    "\n",
    "**Challenge:** To accommodate horizontal (landscape) orientation for a tablet, you can center the Button elements in activity_main.xml (xlarge) so that they appear as shown in the figure below.\n",
    "\n",
    "> Hint: Select the elements, click the align button in the toolbar, and choose Center Horizontally."
   ]
  },
  {
   "attachments": {
    "d281f0e3-6969-4d6a-8592-72066038360c.png": {
     "image/png": "[encoded data removed]"
    }
   },
   "cell_type": "markdown",
   "metadata": {},
   "source": [
    "![image.png](attachment:d281f0e3-6969-4d6a-8592-72066038360c.png)"
   ]
  },
  {
   "cell_type": "markdown",
   "metadata": {},
   "source": [
    "## [Challenge 1 solution code](https://github.com/google-developer-training/android-fundamentals-apps-v2/tree/master/HelloToastChallenge2)"
   ]
  },
  {
   "cell_type": "markdown",
   "metadata": {},
   "source": [
    "---\n",
    "\n",
    "## <a id=\"change-the-layout-to-linear-layout\"> Task 2: Change the layout to LinearLayout</a>\n",
    "\n",
    "#### 2.1 Change the root view group to LinearLayout\n",
    "#### 2.2 Change element attributes for the LinearLayout\n",
    "#### 2.3 Change the positions of elements in the LinearLayout\n",
    "#### 2.4 Add weight to the TextView element"
   ]
  },
  {
   "cell_type": "markdown",
   "metadata": {},
   "source": [
    "---\n",
    "\n",
    "## <a id=\"change-the-layout-to-relative-layout\">Task 3: Change the layout to RelativeLayout</a>\n",
    "\n",
    "#### 3.1 Change LinearLayout to RelativeLayout\n",
    "#### 3.2 Rearrange views in a RelativeLayout\n"
   ]
  },
  {
   "cell_type": "markdown",
   "metadata": {},
   "source": [
    "---\n",
    "\n",
    "## <a id=\"homework\">Homework</a>\n",
    "\n",
    "Check that the app has the following features:\n",
    "\n",
    "1. It displays the Zero button.\n",
    "2. The Zero button is between the Toast and Count buttons.\n",
    "3. The app includes an implementation of activity_main.xml, activity_main.xml (land), and activity_main.xml (xlarge).\n",
    "4. The app includes an implementation of the click handler method for the Zero button to reset the count to 0. The method must show the zero count in the show_count TextView. The click handler must also reset the Zero button's own background color to gray.\n",
    "5. **(optional)** The click handler method for the Count button has been updated to change its own background color depending on whether the new count is odd or even. This method must use the view parameter to access the button. This method must also change the background of the Zero button to a color other than gray."
   ]
  }
 ],
 "metadata": {
  "kernelspec": {
   "display_name": "Python 3",
   "language": "python",
   "name": "python3"
  },
  "language_info": {
   "codemirror_mode": {
    "name": "ipython",
    "version": 3
   },
   "file_extension": ".py",
   "mimetype": "text/x-python",
   "name": "python",
   "nbconvert_exporter": "python",
   "pygments_lexer": "ipython3",
   "version": "3.7.7"
  }
 },
 "nbformat": 4,
 "nbformat_minor": 4
}
