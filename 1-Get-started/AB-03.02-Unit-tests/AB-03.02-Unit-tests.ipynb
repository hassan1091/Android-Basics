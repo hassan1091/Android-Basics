{
 "cells": [
  {
   "cell_type": "markdown",
   "metadata": {},
   "source": [
    "<img src=\"../../assets/logo-dark-limited.png\" width=\"150\" height=\"150\" align=\"right\"/>\n",
    "\n",
    "# Android Fundamentals\n",
    "\n",
    "## Unit 1: Get started\n",
    "\n",
    "---"
   ]
  },
  {
   "cell_type": "markdown",
   "metadata": {},
   "source": [
    "## 3.2 Unit tests"
   ]
  },
  {
   "cell_type": "markdown",
   "metadata": {},
   "source": [
    "#### Table of contents\n",
    "+ [Introduction](#intro-3.2)\n",
    "+ [What you'll learn](#you-learn-3.2)\n",
    "+ [What you'll do](#you-do-3.2)\n",
    "\n",
    "#### Tasks\n",
    "+ Task 1: Explore and run CalculatorTest\n",
    "+ Task 2: Add more unit test to CalculatorTest\n",
    "\n",
    "[Vocabulary words and concepts glossary](https://developers.google.com/android/for-all/vocab-words/)\n",
    "\n",
    "---"
   ]
  },
  {
   "cell_type": "markdown",
   "metadata": {},
   "source": [
    "1. Introduction\n",
    "\n",
    "Testing your code can help you catch bugs early in development, when bugs are the least expensive to address. As your app gets larger and more complex, testing improves your code's robustness. With tests in your code, you can exercise small portions of your app in isolation, and you can test in ways that are automatable and repeatable."
   ]
  },
  {
   "cell_type": "markdown",
   "metadata": {},
   "source": [
    "2. <a id=\"you-learn-3.2\">What you'll learn</a>\n",
    "\n",
    "    - Create an Android Studio project.\n",
    "    - Build and run your app in Android Studio, on both an emulator and on a device.\n",
    "    - Navigate the Project > Android pane in Android Studio.\n",
    "    - Find the major components of an Android Studio project, including AndroidManifest.xml, resources, Java files, and Gradle files."
   ]
  },
  {
   "cell_type": "markdown",
   "metadata": {},
   "source": [
    "3. <a id=\"you-do-3.2\">What you'll do</a>\n",
    "\n",
    "    - Run the initial tests in the SimpleCalc app.\n",
    "    - Add more tests to the SimpleCalc app\n",
    "    - Run the unit tests to see the results."
   ]
  },
  {
   "cell_type": "markdown",
   "metadata": {},
   "source": [
    "---\n",
    "\n",
    "## App overview\n",
    "\n",
    "This practical uses the [SimpleCalc](https://github.com/google-developer-training/android-fundamentals-starter-apps-v2/tree/master/SimpleCalc) app from the previous practical codelab ( Android fundamentals 3.1: The debugger). You can modify that app in place, or make a copy of your project folder before proceeding."
   ]
  },
  {
   "cell_type": "markdown",
   "metadata": {},
   "source": [
    "## Task 1: Explore and run CalculatorTest\n",
    "\n",
    "#### 1.1 Explore source sets and CalculatorTest\n",
    "#### 1.2 Run tests in Android Studio"
   ]
  },
  {
   "cell_type": "markdown",
   "metadata": {},
   "source": [
    "---\n",
    "\n",
    "## Task 2: Add more unit tests to CalculatorTest\n",
    "\n",
    "#### 2.1 Add more tests for the add() method\n",
    "#### 2.2 Add unit tests for the other calculation methods\n"
   ]
  },
  {
   "cell_type": "markdown",
   "metadata": {},
   "source": [
    "---\n",
    "\n",
    "## Coding challenges\n",
    "\n",
    "**Challenge 1:** Dividing by zero is always worth testing for, because it is a special case in arithmetic. How might you change the app to more gracefully handle divide by zero? To accomplish this challenge, start with a test that shows what the right behavior should be.\n",
    "\n",
    "Remove the `divTwoNumbersZero()` method from `CalculatorTest`, and add a new unit test called `divByZeroThrows()` that tests the `div()` method with a second argument of zero, with the expected result as `IllegalArgumentException`.class. This test will pass, and as a result it will demonstrate that any division by zero will result in this exception.\n",
    "\n",
    "After you learn how to write code for an [Exception](https://developer.android.com/reference/java/lang/Exception.html) handler, your app can handle this exception gracefully by, for example, displaying a [Toast](https://developer.android.com/reference/android/widget/Toast.html) message to the user to change Operand 2 from zero to another number.\n",
    "\n",
    "**Challenge 2:** Sometimes it's difficult to isolate a unit of code from all of its external dependencies. Rather than organize your code in complicated ways just so you can test it more easily, you can use a mock framework to create fake (\"mock\") objects that pretend to be dependencies. Research the [Mockito](https://site.mockito.org/) framework, and learn how to set it up in Android Studio. Write a test class for the `calcButton()` method in SimpleCalc, and use Mockito to simulate the Android context in which your tests will run."
   ]
  }
 ],
 "metadata": {
  "kernelspec": {
   "display_name": "Python 3",
   "language": "python",
   "name": "python3"
  },
  "language_info": {
   "codemirror_mode": {
    "name": "ipython",
    "version": 3
   },
   "file_extension": ".py",
   "mimetype": "text/x-python",
   "name": "python",
   "nbconvert_exporter": "python",
   "pygments_lexer": "ipython3",
   "version": "3.7.7"
  }
 },
 "nbformat": 4,
 "nbformat_minor": 4
}
