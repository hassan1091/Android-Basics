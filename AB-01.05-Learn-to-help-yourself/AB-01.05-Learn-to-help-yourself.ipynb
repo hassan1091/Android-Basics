{
 "cells": [
  {
   "cell_type": "markdown",
   "metadata": {},
   "source": [
    "<img src=\"../assets/logo-dark-limited.png\" width=\"150\" height=\"150\" align=\"right\"/>\n",
    "\n",
    "# Android Fundamentals\n",
    "\n",
    "## Unit 1: Get started\n",
    "\n",
    "---"
   ]
  },
  {
   "cell_type": "markdown",
   "metadata": {},
   "source": [
    "### 1.5 Learn to help yourself"
   ]
  },
  {
   "cell_type": "markdown",
   "metadata": {},
   "source": [
    "#### Table of contents\n",
    "+ [Introduction](#intro)\n",
    "+ [What you'll learn](#you-learn)\n",
    "+ [What you'll do](#you-do)\n",
    "\n",
    "#### Tasks\n",
    "+ [Task 1: Change the launcher icon](#change-the-launcher-icon)\n",
    "+ [Task 2: Use project templates](#use-project-templates)\n",
    "+ [Task 3: Learn from sample code](#learn-from-sample-code)\n",
    "+ [Task 4: Many more resources](#many-more-resources)\n",
    "\n",
    "[Vocabulary words and concepts glossary](https://developers.google.com/android/for-all/vocab-words/)\n",
    "\n",
    "---"
   ]
  },
  {
   "cell_type": "markdown",
   "metadata": {},
   "source": [
    "1. <a id=\"intro\">Introduction</a>\n",
    "\n",
    "You will change the launcher icon for the HelloToast app that you created. You should replace the default icon with an image asset that's available within Android Studio."
   ]
  },
  {
   "cell_type": "markdown",
   "metadata": {},
   "source": [
    ">You should be able to:\n",
    "    >+ The basic workflow of Android Studio.\n",
    "    >+ How to create an app in Android Studio using the Empty Activity template.\n",
    "    >+ How to use the Layout Editor in Android Studio."
   ]
  },
  {
   "cell_type": "markdown",
   "metadata": {},
   "source": [
    "2. <a id=\"you_learn\">What you'll learn</a>\n",
    "\n",
    "    - Where to find Android developer information and resources.\n",
    "    - How to add a launcher icon to an app.\n",
    "    - How to look for help when you're developing Android apps."
   ]
  },
  {
   "cell_type": "markdown",
   "metadata": {},
   "source": [
    "3. <a id=\"you_do\">What you'll do</a>\n",
    "\n",
    "    - Explore some of the many resources available to Android developers of all levels.\n",
    "    - Add a launcher icon for an app."
   ]
  },
  {
   "cell_type": "markdown",
   "metadata": {},
   "source": [
    "---\n",
    "\n",
    "## <a id=\"change-the-launcher-icon\"> Task 1: Change the launcher icon </a>\n",
    "\n",
    "#### [1.1 Explore the official Android documentation](https://developer.android.com/index.html)\n",
    "#### 1.2 Add an image asset for the launcher icon"
   ]
  },
  {
   "cell_type": "markdown",
   "metadata": {},
   "source": [
    "---\n",
    "## <a id=\"use-project-templates\">Task 2: Use project templates</a>\n",
    "\n",
    "#### 2.1 Explore the Basic Activity architecture\n",
    "#### 2.2 Customizing the app that the template produces\n",
    "#### 2.3 Explore how to add activities using templates"
   ]
  },
  {
   "cell_type": "markdown",
   "metadata": {},
   "source": [
    "---\n",
    "\n",
    "## <a id=\"learn-from-sample-code\">Task 3: Learn from sample code</a>\n",
    "\n",
    "#### 3.1 Android code samples\n",
    "#### 3.2 Use the SDK Manager to install offline documentation"
   ]
  },
  {
   "cell_type": "markdown",
   "metadata": {},
   "source": [
    "---\n",
    "\n",
    "## <a id=\"many-more-resources\">Task 4: Many more resources</a>\n",
    "\n",
    "- The [Android Developer YouTube channel](https://www.youtube.com/user/androiddevelopers) is a great source of tutorials and tips.\n",
    "- The Android team posts news and tips in the [official Android blog](https://blog.google/products/android/).\n",
    "- [Stack Overflow](https://stackoverflow.com/) is a community of programmers helping each other. If you run into a problem, chances are high that someone has already posted an answer."
   ]
  }
 ],
 "metadata": {
  "kernelspec": {
   "display_name": "Python 3",
   "language": "python",
   "name": "python3"
  },
  "language_info": {
   "codemirror_mode": {
    "name": "ipython",
    "version": 3
   },
   "file_extension": ".py",
   "mimetype": "text/x-python",
   "name": "python",
   "nbconvert_exporter": "python",
   "pygments_lexer": "ipython3",
   "version": "3.7.7"
  }
 },
 "nbformat": 4,
 "nbformat_minor": 4
}
