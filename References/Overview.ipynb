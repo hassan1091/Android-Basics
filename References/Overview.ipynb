{
 "cells": [
  {
   "cell_type": "markdown",
   "metadata": {},
   "source": [
    "# Android Developer Fundamentals\n",
    "\n",
    "In the Android Developer Fundamentals course, you learn basic Android programming concepts and build a variety of apps, using the Java programming language. You start with Hello World and work your way up to apps that schedule jobs, update settings, and use Android Architecture Components."
   ]
  },
  {
   "cell_type": "markdown",
   "metadata": {},
   "source": [
    "## About the course\n",
    "\n",
    "**The Android Developer Fundamentals course was created by the Google Developers Training team. To take the course, you should have experience with the Java programming language other than you will not get the full benefit**. \n",
    "\n",
    "Android Developer Fundamentals prepares you to take the exam for the [Associate Android Developer certification](https://developers.google.com/certification/associate-android-developer)."
   ]
  },
  {
   "cell_type": "markdown",
   "metadata": {},
   "source": [
    "### What does the course cover?\n",
    "\n",
    "The course includes four teaching units, each of which includes several lessons:\n",
    "\n",
    "- [Unit 1: Get started](#get-started)\n",
    "- [Unit 2: User experience](#user-experience)\n",
    "- [Unit 3: Working in the background](#working-in-the-background)\n",
    "- [Unit 4: Saving user data](#saving-user-data)"
   ]
  },
  {
   "cell_type": "markdown",
   "metadata": {},
   "source": [
    "-------------------"
   ]
  },
  {
   "cell_type": "markdown",
   "metadata": {},
   "source": [
    "### <a id=\"get-started\">Unit 1: Get started</a>\n",
    "\n",
    "This unit covers installing Android Studio, understanding project structure, building your first app, creating activities, testing your apps, and using the Android Support Library.\n",
    "\n",
    "First, you deploy a simple Hello World app. You go on to create an app with a simple activity, and then you create a multi-screen app that passes data between activities. You also learn how to use the Android Support Library to provide backward-compatibility with earlier versions of the Android system for your app."
   ]
  },
  {
   "cell_type": "markdown",
   "metadata": {},
   "source": [
    "+ **Lesson 1: Build your first app**\n",
    "\n",
    "    + 1.1: Android Studio and Hello World\n",
    "    + 1.2 Part A: Your first interactive UI\n",
    "    + 1.2 Part B: The layout editor\n",
    "    + 1.3: Text and scrolling views\n",
    "    + 1.4: Learn to help yourself\n",
    "    \n",
    "\n",
    "+ **Lesson 2: Activities and intents**\n",
    "\n",
    "    + 2.1: Activities and intents\n",
    "    + 2.2: Activity lifecycle and state\n",
    "    + 2.3: Implicit intents\n",
    "    \n",
    "\n",
    "+ **Lesson 3: Testing, debugging, and using support libraries**\n",
    "\n",
    "    + 3.1: The debugger\n",
    "    + 3.2: Unit tests\n",
    "    + 3.3: Support libraries"
   ]
  },
  {
   "cell_type": "markdown",
   "metadata": {},
   "source": [
    "------------------------"
   ]
  },
  {
   "cell_type": "markdown",
   "metadata": {},
   "source": [
    "### <a id=\"user-experience\">Unit 2: User experience</a>\n",
    "\n",
    "This unit covers how to get input from the user, implement navigation strategies, use themes and styles, test your user interface, and follow Material Design principles.\n",
    "\n",
    "You create apps that use menus and tabs for navigation, and input controls such as spinners and picker dialogs to get information from the user. You learn how to extract resources to create a style from an instance of a user interface element. You write an app that displays a word list in a recycler view (and you learn why it's better to use a recycler view than a plain scrolling list).\n",
    "\n",
    "You also build a score-keeping app to explore Material Design guidelines."
   ]
  },
  {
   "cell_type": "markdown",
   "metadata": {},
   "source": [
    "+ **Lesson 4: User interaction**\n",
    "\n",
    "    + 4.1: Clickable images\n",
    "    + 4.2: Input controls\n",
    "    + 4.3: Menus and pickers\n",
    "    + 4.4: User navigation\n",
    "    + 4.5: RecyclerView\n",
    "\n",
    "\n",
    "+ **Lesson 5: Delightful user experience**\n",
    "\n",
    "    + 5.1: Drawables, styles, and themes\n",
    "    + 5.2: Cards and colors\n",
    "    + 5.3: Adaptive layouts\n",
    "\n",
    "\n",
    "+ **Lesson 6:Testing your UI**\n",
    "\n",
    "    + 6.1: Espresso for UI testing"
   ]
  },
  {
   "cell_type": "markdown",
   "metadata": {},
   "source": [
    "----------------------------"
   ]
  },
  {
   "cell_type": "markdown",
   "metadata": {},
   "source": [
    "### <a id=\"working-in-the-background\">Unit 3: Working in the background</a>"
   ]
  },
  {
   "cell_type": "markdown",
   "metadata": {},
   "source": [
    "This unit covers how to do background work, how to schedule tasks, and how to trigger events. It covers the performance implications of executing work in the background, as well as best practices for reducing battery drain. You learn how Android determines which apps to keep running and which to stop when resources run low.\n",
    "\n",
    "You write an app that connects to the Internet in a background thread to find the author of any book. You also build apps that send notifications and schedule tasks, and you learn how to implement scheduling functionality for apps that run on earlier versions of Android."
   ]
  },
  {
   "cell_type": "markdown",
   "metadata": {},
   "source": [
    "+ **Lesson 7: Background tasks**\n",
    "\n",
    "    + 7.1: AsyncTask\n",
    "    + 7.2: AsyncTask and AsyncTaskLoader\n",
    "    + 7.3: Broadcast receivers\n",
    "    \n",
    "\n",
    "+ **Lesson 8: Alarms and schedulers**\n",
    "\n",
    "    + 8.1: Notifications\n",
    "    + 8.2: The alarm manager\n",
    "    + 8.3: JobScheduler"
   ]
  },
  {
   "cell_type": "markdown",
   "metadata": {},
   "source": [
    "------------------"
   ]
  },
  {
   "cell_type": "markdown",
   "metadata": {},
   "source": [
    "### <a id=\"saving-user-data\">Unit 4: Saving user data</a>"
   ]
  },
  {
   "cell_type": "markdown",
   "metadata": {},
   "source": [
    "This unit discusses how to store user data. You learn how to use shared preferences to save simple key value pairs, then you learn how to use the Room database to save, retrieve, and update user data. This unit also introduces you to the Android Architecture Components, which represent best practices for structuring your app."
   ]
  },
  {
   "cell_type": "markdown",
   "metadata": {},
   "source": [
    "+ **Lesson 9: Preferences and settings**\n",
    "\n",
    "    + 9.1: Shared preferences\n",
    "    + 9.2: App settings\n",
    "    \n",
    "\n",
    "+ **Lesson 10: Storing data with Room**\n",
    "\n",
    "    + 10.1 Part A: Room, LiveData, and ViewModel\n",
    "    + 10.1 Part B: Deleting data from a Room database"
   ]
  }
 ],
 "metadata": {
  "kernelspec": {
   "display_name": "Python 3",
   "language": "python",
   "name": "python3"
  },
  "language_info": {
   "codemirror_mode": {
    "name": "ipython",
    "version": 3
   },
   "file_extension": ".py",
   "mimetype": "text/x-python",
   "name": "python",
   "nbconvert_exporter": "python",
   "pygments_lexer": "ipython3",
   "version": "3.8.5"
  }
 },
 "nbformat": 4,
 "nbformat_minor": 4
}
