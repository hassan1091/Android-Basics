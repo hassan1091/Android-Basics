{
 "cells": [
  {
   "cell_type": "markdown",
   "metadata": {},
   "source": [
    "<img src=\"../assets/logo-dark-limited.png\" width=\"150\" height=\"150\" align=\"right\"/>\n",
    "\n",
    "# Android Fundamentals\n",
    "\n",
    "## References\n",
    "\n",
    "---"
   ]
  },
  {
   "cell_type": "markdown",
   "metadata": {},
   "source": [
    "Go to [github](https://github.com/mutairibassam/Android-Basics) and clone the m"
   ]
  },
  {
   "cell_type": "markdown",
   "metadata": {},
   "source": [
    "**All the links which used by the instructor are listed below.**"
   ]
  },
  {
   "cell_type": "markdown",
   "metadata": {},
   "source": [
    "- [Use xml visualizer](https://labs.udacity.com/android-visualizer/)\n",
    "- [Vocab Glossary](https://developers.google.com/android/for-all/vocab-words/?utm_source=udacity&utm_medium=course&utm_campaign=android_basics)\n",
    "- [Troubleshooting JDK doc](https://docs.google.com/document/d/1w1Xn_hnSAODAAtdRDp7haYPBtEwX_l7Htpf8Wpgbu6w/pub?embedded=true)\n",
    "- [Download JDK](https://www.oracle.com/java/technologies/javase-downloads.html)\n",
    "- [Abbreviation of any language from the ISO 639 code list](https://www.loc.gov/standards/iso639-2/php/code_list.php)\n",
    "- [Material design color palette](https://www.materialpalette.com/)\n",
    "- [Type system](https://material.io/design/typography/#)\n",
    "- [Distribute dashboard](https://developer.android.com/about/dashboards/index.html#Platform)\n",
    "- [Android Asset Studio](https://romannurik.github.io/AndroidAssetStudio/)\n",
    "- [Resource qualifiers](https://developer.android.com/guide/topics/resources/providing-resources.html)\n",
    "- [Adobe color](https://color.adobe.com/create)\n",
    "- [Android Plugin DSL Reference](https://google.github.io/android-gradle-dsl/current/)\n",
    "- [Understanding migrations with Room](https://medium.com/androiddevelopers/understanding-migrations-with-room-f01e04b07929)"
   ]
  }
 ],
 "metadata": {
  "kernelspec": {
   "display_name": "Python 3",
   "language": "python",
   "name": "python3"
  },
  "language_info": {
   "codemirror_mode": {
    "name": "ipython",
    "version": 3
   },
   "file_extension": ".py",
   "mimetype": "text/x-python",
   "name": "python",
   "nbconvert_exporter": "python",
   "pygments_lexer": "ipython3",
   "version": "3.7.7"
  }
 },
 "nbformat": 4,
 "nbformat_minor": 4
}
